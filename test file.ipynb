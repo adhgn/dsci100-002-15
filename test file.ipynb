{
 "cells": [
  {
   "cell_type": "markdown",
   "id": "9acf511c-9c17-414c-847f-f9d99fcc6ec0",
   "metadata": {},
   "source": [
    "testing"
   ]
  },
  {
   "cell_type": "code",
   "execution_count": null,
   "id": "78ad95a5-7c0c-4a5a-8cb9-9d0301e0c56d",
   "metadata": {},
   "outputs": [],
   "source": []
  }
 ],
 "metadata": {
  "kernelspec": {
   "display_name": "R",
   "language": "R",
   "name": "ir"
  },
  "language_info": {
   "codemirror_mode": "r",
   "file_extension": ".r",
   "mimetype": "text/x-r-source",
   "name": "R",
   "pygments_lexer": "r",
   "version": "4.3.1"
  }
 },
 "nbformat": 4,
 "nbformat_minor": 5
}
